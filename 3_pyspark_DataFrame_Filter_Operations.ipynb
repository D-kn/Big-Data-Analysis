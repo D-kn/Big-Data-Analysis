{
  "nbformat": 4,
  "nbformat_minor": 0,
  "metadata": {
    "colab": {
      "provenance": [],
      "authorship_tag": "ABX9TyOmIgstGNQJ2sVjtWdp9del",
      "include_colab_link": true
    },
    "kernelspec": {
      "name": "python3",
      "display_name": "Python 3"
    },
    "language_info": {
      "name": "python"
    }
  },
  "cells": [
    {
      "cell_type": "markdown",
      "metadata": {
        "id": "view-in-github",
        "colab_type": "text"
      },
      "source": [
        "<a href=\"https://colab.research.google.com/github/D-kn/Big-Data-Projects/blob/main/3_pyspark_DataFrame_Filter_Operations.ipynb\" target=\"_parent\"><img src=\"https://colab.research.google.com/assets/colab-badge.svg\" alt=\"Open In Colab\"/></a>"
      ]
    },
    {
      "cell_type": "code",
      "execution_count": 1,
      "metadata": {
        "colab": {
          "base_uri": "https://localhost:8080/"
        },
        "id": "kZClVxOCjEX2",
        "outputId": "fd1fa146-f3b1-4480-93d7-ec2c11b88528"
      },
      "outputs": [
        {
          "output_type": "stream",
          "name": "stdout",
          "text": [
            "Looking in indexes: https://pypi.org/simple, https://us-python.pkg.dev/colab-wheels/public/simple/\n",
            "Collecting pyspark\n",
            "  Downloading pyspark-3.3.1.tar.gz (281.4 MB)\n",
            "\u001b[K     |████████████████████████████████| 281.4 MB 37 kB/s \n",
            "\u001b[?25hCollecting py4j==0.10.9.5\n",
            "  Downloading py4j-0.10.9.5-py2.py3-none-any.whl (199 kB)\n",
            "\u001b[K     |████████████████████████████████| 199 kB 53.7 MB/s \n",
            "\u001b[?25hBuilding wheels for collected packages: pyspark\n",
            "  Building wheel for pyspark (setup.py) ... \u001b[?25l\u001b[?25hdone\n",
            "  Created wheel for pyspark: filename=pyspark-3.3.1-py2.py3-none-any.whl size=281845512 sha256=2765dc2383433d2a1ccee38f931ec883df4f06011ba214eb24f4bf2639e81f50\n",
            "  Stored in directory: /root/.cache/pip/wheels/43/dc/11/ec201cd671da62fa9c5cc77078235e40722170ceba231d7598\n",
            "Successfully built pyspark\n",
            "Installing collected packages: py4j, pyspark\n",
            "Successfully installed py4j-0.10.9.5 pyspark-3.3.1\n"
          ]
        }
      ],
      "source": [
        "!pip install pyspark"
      ]
    },
    {
      "cell_type": "code",
      "source": [
        "# mount drive\n",
        "from google.colab import drive\n",
        "\n",
        "drive.mount('/content/drive')"
      ],
      "metadata": {
        "colab": {
          "base_uri": "https://localhost:8080/"
        },
        "id": "g-dqbhusjPUX",
        "outputId": "7a27441b-9edd-4f78-b66b-301a027a685e"
      },
      "execution_count": 2,
      "outputs": [
        {
          "output_type": "stream",
          "name": "stdout",
          "text": [
            "Mounted at /content/drive\n"
          ]
        }
      ]
    },
    {
      "cell_type": "code",
      "source": [
        "cd '/content/drive/My Drive/Projets Codes/Datasets'"
      ],
      "metadata": {
        "colab": {
          "base_uri": "https://localhost:8080/"
        },
        "id": "CmJK6lbekNIO",
        "outputId": "517d7355-245b-4559-aee2-8653f364fce6"
      },
      "execution_count": 3,
      "outputs": [
        {
          "output_type": "stream",
          "name": "stdout",
          "text": [
            "/content/drive/My Drive/Projets Codes/Datasets\n"
          ]
        }
      ]
    },
    {
      "cell_type": "code",
      "source": [
        "from pyspark.sql import SparkSession\n",
        "from pyspark.sql.types import StructType,StructField, StringType, IntegerType\n",
        "\n",
        "\n",
        "spark=SparkSession.builder.appName('filterOperations').getOrCreate()"
      ],
      "metadata": {
        "id": "qgFWC9VOz2CA"
      },
      "execution_count": 5,
      "outputs": []
    },
    {
      "cell_type": "code",
      "source": [
        "df=spark.read.csv(\"Titanic.csv\", header=True, inferSchema=True)"
      ],
      "metadata": {
        "id": "4SB_oa6170Wh"
      },
      "execution_count": 10,
      "outputs": []
    },
    {
      "cell_type": "code",
      "source": [
        "df.show()"
      ],
      "metadata": {
        "colab": {
          "base_uri": "https://localhost:8080/"
        },
        "id": "f5EZOdYE8qGz",
        "outputId": "3ed0acf7-4ade-4397-83fc-aa122c00876a"
      },
      "execution_count": 11,
      "outputs": [
        {
          "output_type": "stream",
          "name": "stdout",
          "text": [
            "+-----------+--------+------+--------------------+------+----+-----+-----+----------------+-------+-----+--------+\n",
            "|PassengerId|Survived|Pclass|                Name|   Sex| Age|SibSp|Parch|          Ticket|   Fare|Cabin|Embarked|\n",
            "+-----------+--------+------+--------------------+------+----+-----+-----+----------------+-------+-----+--------+\n",
            "|          1|       0|     3|Braund, Mr. Owen ...|  male|22.0|    1|    0|       A/5 21171|   7.25| null|       S|\n",
            "|          2|       1|     1|Cumings, Mrs. Joh...|female|38.0|    1|    0|        PC 17599|71.2833|  C85|       C|\n",
            "|          3|       1|     3|Heikkinen, Miss. ...|female|26.0|    0|    0|STON/O2. 3101282|  7.925| null|       S|\n",
            "|          4|       1|     1|Futrelle, Mrs. Ja...|female|35.0|    1|    0|          113803|   53.1| C123|       S|\n",
            "|          5|       0|     3|Allen, Mr. Willia...|  male|35.0|    0|    0|          373450|   8.05| null|       S|\n",
            "|          6|       0|     3|    Moran, Mr. James|  male|null|    0|    0|          330877| 8.4583| null|       Q|\n",
            "|          7|       0|     1|McCarthy, Mr. Tim...|  male|54.0|    0|    0|           17463|51.8625|  E46|       S|\n",
            "|          8|       0|     3|Palsson, Master. ...|  male| 2.0|    3|    1|          349909| 21.075| null|       S|\n",
            "|          9|       1|     3|Johnson, Mrs. Osc...|female|27.0|    0|    2|          347742|11.1333| null|       S|\n",
            "|         10|       1|     2|Nasser, Mrs. Nich...|female|14.0|    1|    0|          237736|30.0708| null|       C|\n",
            "|         11|       1|     3|Sandstrom, Miss. ...|female| 4.0|    1|    1|         PP 9549|   16.7|   G6|       S|\n",
            "|         12|       1|     1|Bonnell, Miss. El...|female|58.0|    0|    0|          113783|  26.55| C103|       S|\n",
            "|         13|       0|     3|Saundercock, Mr. ...|  male|20.0|    0|    0|       A/5. 2151|   8.05| null|       S|\n",
            "|         14|       0|     3|Andersson, Mr. An...|  male|39.0|    1|    5|          347082| 31.275| null|       S|\n",
            "|         15|       0|     3|Vestrom, Miss. Hu...|female|14.0|    0|    0|          350406| 7.8542| null|       S|\n",
            "|         16|       1|     2|Hewlett, Mrs. (Ma...|female|55.0|    0|    0|          248706|   16.0| null|       S|\n",
            "|         17|       0|     3|Rice, Master. Eugene|  male| 2.0|    4|    1|          382652| 29.125| null|       Q|\n",
            "|         18|       1|     2|Williams, Mr. Cha...|  male|null|    0|    0|          244373|   13.0| null|       S|\n",
            "|         19|       0|     3|Vander Planke, Mr...|female|31.0|    1|    0|          345763|   18.0| null|       S|\n",
            "|         20|       1|     3|Masselmani, Mrs. ...|female|null|    0|    0|            2649|  7.225| null|       C|\n",
            "+-----------+--------+------+--------------------+------+----+-----+-----+----------------+-------+-----+--------+\n",
            "only showing top 20 rows\n",
            "\n"
          ]
        }
      ]
    },
    {
      "cell_type": "code",
      "source": [
        "# Age of people less than 18\n",
        "df.filter(\"Age < 18\").show()\n",
        "# df.filter(df[\"Age\"] < 18).show()"
      ],
      "metadata": {
        "colab": {
          "base_uri": "https://localhost:8080/"
        },
        "id": "NW6YUKhj8vNj",
        "outputId": "2d76abf1-0513-4a23-b12a-c254822a6ffa"
      },
      "execution_count": 29,
      "outputs": [
        {
          "output_type": "stream",
          "name": "stdout",
          "text": [
            "+-----------+--------+------+--------------------+------+----+-----+-----+-------------+-------+-----+--------+\n",
            "|PassengerId|Survived|Pclass|                Name|   Sex| Age|SibSp|Parch|       Ticket|   Fare|Cabin|Embarked|\n",
            "+-----------+--------+------+--------------------+------+----+-----+-----+-------------+-------+-----+--------+\n",
            "|          8|       0|     3|Palsson, Master. ...|  male| 2.0|    3|    1|       349909| 21.075| null|       S|\n",
            "|         10|       1|     2|Nasser, Mrs. Nich...|female|14.0|    1|    0|       237736|30.0708| null|       C|\n",
            "|         11|       1|     3|Sandstrom, Miss. ...|female| 4.0|    1|    1|      PP 9549|   16.7|   G6|       S|\n",
            "|         15|       0|     3|Vestrom, Miss. Hu...|female|14.0|    0|    0|       350406| 7.8542| null|       S|\n",
            "|         17|       0|     3|Rice, Master. Eugene|  male| 2.0|    4|    1|       382652| 29.125| null|       Q|\n",
            "|         23|       1|     3|\"McGowan, Miss. A...|female|15.0|    0|    0|       330923| 8.0292| null|       Q|\n",
            "|         25|       0|     3|Palsson, Miss. To...|female| 8.0|    3|    1|       349909| 21.075| null|       S|\n",
            "|         40|       1|     3|Nicola-Yarred, Mi...|female|14.0|    1|    0|         2651|11.2417| null|       C|\n",
            "|         44|       1|     2|Laroche, Miss. Si...|female| 3.0|    1|    2|SC/Paris 2123|41.5792| null|       C|\n",
            "|         51|       0|     3|Panula, Master. J...|  male| 7.0|    4|    1|      3101295|39.6875| null|       S|\n",
            "|         59|       1|     2|West, Miss. Const...|female| 5.0|    1|    2|   C.A. 34651|  27.75| null|       S|\n",
            "|         60|       0|     3|Goodwin, Master. ...|  male|11.0|    5|    2|      CA 2144|   46.9| null|       S|\n",
            "|         64|       0|     3|Skoog, Master. Ha...|  male| 4.0|    3|    2|       347088|   27.9| null|       S|\n",
            "|         69|       1|     3|Andersson, Miss. ...|female|17.0|    4|    2|      3101281|  7.925| null|       S|\n",
            "|         72|       0|     3|Goodwin, Miss. Li...|female|16.0|    5|    2|      CA 2144|   46.9| null|       S|\n",
            "|         79|       1|     2|Caldwell, Master....|  male|0.83|    0|    2|       248738|   29.0| null|       S|\n",
            "|         85|       1|     2| Ilett, Miss. Bertha|female|17.0|    0|    0|   SO/C 14885|   10.5| null|       S|\n",
            "|         87|       0|     3|Ford, Mr. William...|  male|16.0|    1|    3|   W./C. 6608| 34.375| null|       S|\n",
            "|        112|       0|     3|Zabour, Miss. Hileni|female|14.5|    1|    0|         2665|14.4542| null|       C|\n",
            "|        115|       0|     3|Attalah, Miss. Ma...|female|17.0|    0|    0|         2627|14.4583| null|       C|\n",
            "+-----------+--------+------+--------------------+------+----+-----+-----+-------------+-------+-----+--------+\n",
            "only showing top 20 rows\n",
            "\n",
            "+-----------+--------+------+--------------------+------+----+-----+-----+-------------+-------+-----+--------+\n",
            "|PassengerId|Survived|Pclass|                Name|   Sex| Age|SibSp|Parch|       Ticket|   Fare|Cabin|Embarked|\n",
            "+-----------+--------+------+--------------------+------+----+-----+-----+-------------+-------+-----+--------+\n",
            "|          8|       0|     3|Palsson, Master. ...|  male| 2.0|    3|    1|       349909| 21.075| null|       S|\n",
            "|         10|       1|     2|Nasser, Mrs. Nich...|female|14.0|    1|    0|       237736|30.0708| null|       C|\n",
            "|         11|       1|     3|Sandstrom, Miss. ...|female| 4.0|    1|    1|      PP 9549|   16.7|   G6|       S|\n",
            "|         15|       0|     3|Vestrom, Miss. Hu...|female|14.0|    0|    0|       350406| 7.8542| null|       S|\n",
            "|         17|       0|     3|Rice, Master. Eugene|  male| 2.0|    4|    1|       382652| 29.125| null|       Q|\n",
            "|         23|       1|     3|\"McGowan, Miss. A...|female|15.0|    0|    0|       330923| 8.0292| null|       Q|\n",
            "|         25|       0|     3|Palsson, Miss. To...|female| 8.0|    3|    1|       349909| 21.075| null|       S|\n",
            "|         40|       1|     3|Nicola-Yarred, Mi...|female|14.0|    1|    0|         2651|11.2417| null|       C|\n",
            "|         44|       1|     2|Laroche, Miss. Si...|female| 3.0|    1|    2|SC/Paris 2123|41.5792| null|       C|\n",
            "|         51|       0|     3|Panula, Master. J...|  male| 7.0|    4|    1|      3101295|39.6875| null|       S|\n",
            "|         59|       1|     2|West, Miss. Const...|female| 5.0|    1|    2|   C.A. 34651|  27.75| null|       S|\n",
            "|         60|       0|     3|Goodwin, Master. ...|  male|11.0|    5|    2|      CA 2144|   46.9| null|       S|\n",
            "|         64|       0|     3|Skoog, Master. Ha...|  male| 4.0|    3|    2|       347088|   27.9| null|       S|\n",
            "|         69|       1|     3|Andersson, Miss. ...|female|17.0|    4|    2|      3101281|  7.925| null|       S|\n",
            "|         72|       0|     3|Goodwin, Miss. Li...|female|16.0|    5|    2|      CA 2144|   46.9| null|       S|\n",
            "|         79|       1|     2|Caldwell, Master....|  male|0.83|    0|    2|       248738|   29.0| null|       S|\n",
            "|         85|       1|     2| Ilett, Miss. Bertha|female|17.0|    0|    0|   SO/C 14885|   10.5| null|       S|\n",
            "|         87|       0|     3|Ford, Mr. William...|  male|16.0|    1|    3|   W./C. 6608| 34.375| null|       S|\n",
            "|        112|       0|     3|Zabour, Miss. Hileni|female|14.5|    1|    0|         2665|14.4542| null|       C|\n",
            "|        115|       0|     3|Attalah, Miss. Ma...|female|17.0|    0|    0|         2627|14.4583| null|       C|\n",
            "+-----------+--------+------+--------------------+------+----+-----+-----+-------------+-------+-----+--------+\n",
            "only showing top 20 rows\n",
            "\n"
          ]
        }
      ]
    },
    {
      "cell_type": "code",
      "source": [
        "df.filter(df[\"Age\"] > 30).select(\"Name\").show()"
      ],
      "metadata": {
        "colab": {
          "base_uri": "https://localhost:8080/"
        },
        "id": "ItQD217F_LaP",
        "outputId": "a7ee2777-448b-4bdb-fe71-79f5b48907dc"
      },
      "execution_count": 28,
      "outputs": [
        {
          "output_type": "stream",
          "name": "stdout",
          "text": [
            "+--------------------+\n",
            "|                Name|\n",
            "+--------------------+\n",
            "|Cumings, Mrs. Joh...|\n",
            "|Futrelle, Mrs. Ja...|\n",
            "|Allen, Mr. Willia...|\n",
            "|McCarthy, Mr. Tim...|\n",
            "|Bonnell, Miss. El...|\n",
            "|Andersson, Mr. An...|\n",
            "|Hewlett, Mrs. (Ma...|\n",
            "|Vander Planke, Mr...|\n",
            "|Fynney, Mr. Joseph J|\n",
            "|Beesley, Mr. Lawr...|\n",
            "|Asplund, Mrs. Car...|\n",
            "|Uruchurtu, Don. M...|\n",
            "|Wheadon, Mr. Edwa...|\n",
            "|Holverson, Mr. Al...|\n",
            "|Ahlin, Mrs. Johan...|\n",
            "|Harper, Mrs. Henr...|\n",
            "|Ostby, Mr. Engelh...|\n",
            "| Icard, Miss. Amelie|\n",
            "|Harris, Mr. Henry...|\n",
            "|Jenkin, Mr. Steph...|\n",
            "+--------------------+\n",
            "only showing top 20 rows\n",
            "\n"
          ]
        }
      ]
    },
    {
      "cell_type": "code",
      "source": [
        "df.filter((df[\"Age\"] <= 18) & (df[\"Age\"] < 30)).select([\"Name\", \"Ticket\", \"Survived\"]).show()\n",
        "# df.filter((df[\"Age\"] <= 18) | (df[\"Age\"] < 30)).select([\"Name\", \"Ticket\", \"Survived\"]).show()"
      ],
      "metadata": {
        "colab": {
          "base_uri": "https://localhost:8080/"
        },
        "id": "4CKaLbQ09y2X",
        "outputId": "b441a2a1-134b-449f-8b0d-1da4ac0cdb89"
      },
      "execution_count": 32,
      "outputs": [
        {
          "output_type": "stream",
          "name": "stdout",
          "text": [
            "+--------------------+-------------+--------+\n",
            "|                Name|       Ticket|Survived|\n",
            "+--------------------+-------------+--------+\n",
            "|Palsson, Master. ...|       349909|       0|\n",
            "|Nasser, Mrs. Nich...|       237736|       1|\n",
            "|Sandstrom, Miss. ...|      PP 9549|       1|\n",
            "|Vestrom, Miss. Hu...|       350406|       0|\n",
            "|Rice, Master. Eugene|       382652|       0|\n",
            "|\"McGowan, Miss. A...|       330923|       1|\n",
            "|Palsson, Miss. To...|       349909|       0|\n",
            "|Vander Planke, Mi...|       345764|       0|\n",
            "|Nicola-Yarred, Mi...|         2651|       1|\n",
            "|Laroche, Miss. Si...|SC/Paris 2123|       1|\n",
            "|Arnold-Franchi, M...|       349237|       0|\n",
            "|Panula, Master. J...|      3101295|       0|\n",
            "|West, Miss. Const...|   C.A. 34651|       1|\n",
            "|Goodwin, Master. ...|      CA 2144|       0|\n",
            "|Skoog, Master. Ha...|       347088|       0|\n",
            "|Andersson, Miss. ...|      3101281|       1|\n",
            "|Goodwin, Miss. Li...|      CA 2144|       0|\n",
            "|Caldwell, Master....|       248738|       1|\n",
            "| Ilett, Miss. Bertha|   SO/C 14885|       1|\n",
            "|Ford, Mr. William...|   W./C. 6608|       0|\n",
            "+--------------------+-------------+--------+\n",
            "only showing top 20 rows\n",
            "\n"
          ]
        }
      ]
    },
    {
      "cell_type": "code",
      "source": [
        "df.filter(~(df[\"Age\"] <= 18) & (df[\"Age\"] < 45)).select([\"Name\", \"Ticket\", \"Survived\", \"Age\"]).show()"
      ],
      "metadata": {
        "colab": {
          "base_uri": "https://localhost:8080/"
        },
        "id": "w5TzxUGKA-P1",
        "outputId": "e26bce92-4932-4dcf-a66f-e702262b5fc2"
      },
      "execution_count": 36,
      "outputs": [
        {
          "output_type": "stream",
          "name": "stdout",
          "text": [
            "+--------------------+----------------+--------+----+\n",
            "|                Name|          Ticket|Survived| Age|\n",
            "+--------------------+----------------+--------+----+\n",
            "|Braund, Mr. Owen ...|       A/5 21171|       0|22.0|\n",
            "|Cumings, Mrs. Joh...|        PC 17599|       1|38.0|\n",
            "|Heikkinen, Miss. ...|STON/O2. 3101282|       1|26.0|\n",
            "|Futrelle, Mrs. Ja...|          113803|       1|35.0|\n",
            "|Allen, Mr. Willia...|          373450|       0|35.0|\n",
            "|Johnson, Mrs. Osc...|          347742|       1|27.0|\n",
            "|Saundercock, Mr. ...|       A/5. 2151|       0|20.0|\n",
            "|Andersson, Mr. An...|          347082|       0|39.0|\n",
            "|Vander Planke, Mr...|          345763|       0|31.0|\n",
            "|Fynney, Mr. Joseph J|          239865|       0|35.0|\n",
            "|Beesley, Mr. Lawr...|          248698|       1|34.0|\n",
            "|Sloper, Mr. Willi...|          113788|       1|28.0|\n",
            "|Asplund, Mrs. Car...|          347077|       1|38.0|\n",
            "|Fortune, Mr. Char...|           19950|       0|19.0|\n",
            "|Uruchurtu, Don. M...|        PC 17601|       0|40.0|\n",
            "|Meyer, Mr. Edgar ...|        PC 17604|       0|28.0|\n",
            "|Holverson, Mr. Al...|          113789|       0|42.0|\n",
            "|Cann, Mr. Ernest ...|      A./5. 2152|       0|21.0|\n",
            "|Ahlin, Mrs. Johan...|            7546|       0|40.0|\n",
            "|Turpin, Mrs. Will...|           11668|       0|27.0|\n",
            "+--------------------+----------------+--------+----+\n",
            "only showing top 20 rows\n",
            "\n"
          ]
        }
      ]
    },
    {
      "cell_type": "code",
      "source": [],
      "metadata": {
        "id": "kxxVQVHABfs9"
      },
      "execution_count": null,
      "outputs": []
    }
  ]
}