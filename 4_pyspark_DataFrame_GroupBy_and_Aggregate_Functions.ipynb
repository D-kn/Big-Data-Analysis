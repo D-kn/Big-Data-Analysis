{
  "nbformat": 4,
  "nbformat_minor": 0,
  "metadata": {
    "colab": {
      "provenance": [],
      "authorship_tag": "ABX9TyMORycBSy5DCPfuhMprnXQ1",
      "include_colab_link": true
    },
    "kernelspec": {
      "name": "python3",
      "display_name": "Python 3"
    },
    "language_info": {
      "name": "python"
    }
  },
  "cells": [
    {
      "cell_type": "markdown",
      "metadata": {
        "id": "view-in-github",
        "colab_type": "text"
      },
      "source": [
        "<a href=\"https://colab.research.google.com/github/D-kn/Big-Data-Projects/blob/main/4_pyspark_DataFrame_GroupBy_and_Aggregate_Functions.ipynb\" target=\"_parent\"><img src=\"https://colab.research.google.com/assets/colab-badge.svg\" alt=\"Open In Colab\"/></a>"
      ]
    },
    {
      "cell_type": "code",
      "execution_count": 1,
      "metadata": {
        "colab": {
          "base_uri": "https://localhost:8080/"
        },
        "id": "kZClVxOCjEX2",
        "outputId": "60896d12-ef16-47db-bbdc-808b9b8c9285"
      },
      "outputs": [
        {
          "output_type": "stream",
          "name": "stdout",
          "text": [
            "Looking in indexes: https://pypi.org/simple, https://us-python.pkg.dev/colab-wheels/public/simple/\n",
            "Collecting pyspark\n",
            "  Downloading pyspark-3.3.1.tar.gz (281.4 MB)\n",
            "\u001b[K     |████████████████████████████████| 281.4 MB 42 kB/s \n",
            "\u001b[?25hCollecting py4j==0.10.9.5\n",
            "  Downloading py4j-0.10.9.5-py2.py3-none-any.whl (199 kB)\n",
            "\u001b[K     |████████████████████████████████| 199 kB 35.8 MB/s \n",
            "\u001b[?25hBuilding wheels for collected packages: pyspark\n",
            "  Building wheel for pyspark (setup.py) ... \u001b[?25l\u001b[?25hdone\n",
            "  Created wheel for pyspark: filename=pyspark-3.3.1-py2.py3-none-any.whl size=281845512 sha256=97d11f53fecf90215f4b23c73de21d976ec7a67057bbe206052ac4d11d7528f1\n",
            "  Stored in directory: /root/.cache/pip/wheels/43/dc/11/ec201cd671da62fa9c5cc77078235e40722170ceba231d7598\n",
            "Successfully built pyspark\n",
            "Installing collected packages: py4j, pyspark\n",
            "Successfully installed py4j-0.10.9.5 pyspark-3.3.1\n"
          ]
        }
      ],
      "source": [
        "!pip install pyspark"
      ]
    },
    {
      "cell_type": "code",
      "source": [
        "# mount drive\n",
        "from google.colab import drive\n",
        "\n",
        "drive.mount('/content/drive')"
      ],
      "metadata": {
        "colab": {
          "base_uri": "https://localhost:8080/"
        },
        "id": "g-dqbhusjPUX",
        "outputId": "98a60ae4-d2bf-4108-db52-081ddb2767d2"
      },
      "execution_count": 2,
      "outputs": [
        {
          "output_type": "stream",
          "name": "stdout",
          "text": [
            "Mounted at /content/drive\n"
          ]
        }
      ]
    },
    {
      "cell_type": "code",
      "source": [
        "cd '/content/drive/My Drive/Projets Codes/Datasets'"
      ],
      "metadata": {
        "colab": {
          "base_uri": "https://localhost:8080/"
        },
        "id": "CmJK6lbekNIO",
        "outputId": "832d5c42-2e02-4e16-8085-6e8eb5f0c25f"
      },
      "execution_count": 3,
      "outputs": [
        {
          "output_type": "stream",
          "name": "stdout",
          "text": [
            "/content/drive/My Drive/Projets Codes/Datasets\n"
          ]
        }
      ]
    },
    {
      "cell_type": "code",
      "source": [
        "from pyspark.sql import SparkSession\n",
        "from pyspark.sql.functions import col, sum, mean, avg, min, max\n",
        "\n",
        "spark=SparkSession.builder.appName('Aggregate').getOrCreate()"
      ],
      "metadata": {
        "id": "qgFWC9VOz2CA"
      },
      "execution_count": 33,
      "outputs": []
    },
    {
      "cell_type": "code",
      "source": [
        "df=spark.read.csv(\"Titanic.csv\", header=True, inferSchema=True)"
      ],
      "metadata": {
        "id": "IYv1nOeCH9Wc"
      },
      "execution_count": 5,
      "outputs": []
    },
    {
      "cell_type": "code",
      "source": [
        "df.show(truncate=False)"
      ],
      "metadata": {
        "id": "zuPO4HaI1lcO",
        "colab": {
          "base_uri": "https://localhost:8080/"
        },
        "outputId": "5e41adc8-c4cb-459f-a202-cfadc32ea2da"
      },
      "execution_count": 12,
      "outputs": [
        {
          "output_type": "stream",
          "name": "stdout",
          "text": [
            "+-----------+--------+------+-------------------------------------------------------+------+----+-----+-----+----------------+-------+-----+--------+\n",
            "|PassengerId|Survived|Pclass|Name                                                   |Sex   |Age |SibSp|Parch|Ticket          |Fare   |Cabin|Embarked|\n",
            "+-----------+--------+------+-------------------------------------------------------+------+----+-----+-----+----------------+-------+-----+--------+\n",
            "|1          |0       |3     |Braund, Mr. Owen Harris                                |male  |22.0|1    |0    |A/5 21171       |7.25   |null |S       |\n",
            "|2          |1       |1     |Cumings, Mrs. John Bradley (Florence Briggs Thayer)    |female|38.0|1    |0    |PC 17599        |71.2833|C85  |C       |\n",
            "|3          |1       |3     |Heikkinen, Miss. Laina                                 |female|26.0|0    |0    |STON/O2. 3101282|7.925  |null |S       |\n",
            "|4          |1       |1     |Futrelle, Mrs. Jacques Heath (Lily May Peel)           |female|35.0|1    |0    |113803          |53.1   |C123 |S       |\n",
            "|5          |0       |3     |Allen, Mr. William Henry                               |male  |35.0|0    |0    |373450          |8.05   |null |S       |\n",
            "|6          |0       |3     |Moran, Mr. James                                       |male  |null|0    |0    |330877          |8.4583 |null |Q       |\n",
            "|7          |0       |1     |McCarthy, Mr. Timothy J                                |male  |54.0|0    |0    |17463           |51.8625|E46  |S       |\n",
            "|8          |0       |3     |Palsson, Master. Gosta Leonard                         |male  |2.0 |3    |1    |349909          |21.075 |null |S       |\n",
            "|9          |1       |3     |Johnson, Mrs. Oscar W (Elisabeth Vilhelmina Berg)      |female|27.0|0    |2    |347742          |11.1333|null |S       |\n",
            "|10         |1       |2     |Nasser, Mrs. Nicholas (Adele Achem)                    |female|14.0|1    |0    |237736          |30.0708|null |C       |\n",
            "|11         |1       |3     |Sandstrom, Miss. Marguerite Rut                        |female|4.0 |1    |1    |PP 9549         |16.7   |G6   |S       |\n",
            "|12         |1       |1     |Bonnell, Miss. Elizabeth                               |female|58.0|0    |0    |113783          |26.55  |C103 |S       |\n",
            "|13         |0       |3     |Saundercock, Mr. William Henry                         |male  |20.0|0    |0    |A/5. 2151       |8.05   |null |S       |\n",
            "|14         |0       |3     |Andersson, Mr. Anders Johan                            |male  |39.0|1    |5    |347082          |31.275 |null |S       |\n",
            "|15         |0       |3     |Vestrom, Miss. Hulda Amanda Adolfina                   |female|14.0|0    |0    |350406          |7.8542 |null |S       |\n",
            "|16         |1       |2     |Hewlett, Mrs. (Mary D Kingcome)                        |female|55.0|0    |0    |248706          |16.0   |null |S       |\n",
            "|17         |0       |3     |Rice, Master. Eugene                                   |male  |2.0 |4    |1    |382652          |29.125 |null |Q       |\n",
            "|18         |1       |2     |Williams, Mr. Charles Eugene                           |male  |null|0    |0    |244373          |13.0   |null |S       |\n",
            "|19         |0       |3     |Vander Planke, Mrs. Julius (Emelia Maria Vandemoortele)|female|31.0|1    |0    |345763          |18.0   |null |S       |\n",
            "|20         |1       |3     |Masselmani, Mrs. Fatima                                |female|null|0    |0    |2649            |7.225  |null |C       |\n",
            "+-----------+--------+------+-------------------------------------------------------+------+----+-----+-----+----------------+-------+-----+--------+\n",
            "only showing top 20 rows\n",
            "\n"
          ]
        }
      ]
    },
    {
      "cell_type": "code",
      "source": [
        "df.printSchema()"
      ],
      "metadata": {
        "colab": {
          "base_uri": "https://localhost:8080/"
        },
        "id": "GFYGJSibK3Xn",
        "outputId": "c2579d56-076f-426d-e402-5eda736c603c"
      },
      "execution_count": 13,
      "outputs": [
        {
          "output_type": "stream",
          "name": "stdout",
          "text": [
            "root\n",
            " |-- PassengerId: integer (nullable = true)\n",
            " |-- Survived: integer (nullable = true)\n",
            " |-- Pclass: integer (nullable = true)\n",
            " |-- Name: string (nullable = true)\n",
            " |-- Sex: string (nullable = true)\n",
            " |-- Age: double (nullable = true)\n",
            " |-- SibSp: integer (nullable = true)\n",
            " |-- Parch: integer (nullable = true)\n",
            " |-- Ticket: string (nullable = true)\n",
            " |-- Fare: double (nullable = true)\n",
            " |-- Cabin: string (nullable = true)\n",
            " |-- Embarked: string (nullable = true)\n",
            "\n"
          ]
        }
      ]
    },
    {
      "cell_type": "code",
      "source": [
        "# Groupby Operations\n",
        "df.groupBy(\"Sex\").count().show()"
      ],
      "metadata": {
        "colab": {
          "base_uri": "https://localhost:8080/"
        },
        "id": "GkMCWKk5LXnX",
        "outputId": "d88697c7-fb6d-43d6-99c9-ad7c04c12bf6"
      },
      "execution_count": 18,
      "outputs": [
        {
          "output_type": "stream",
          "name": "stdout",
          "text": [
            "+------+-----+\n",
            "|   Sex|count|\n",
            "+------+-----+\n",
            "|female|  314|\n",
            "|  male|  577|\n",
            "+------+-----+\n",
            "\n"
          ]
        }
      ]
    },
    {
      "cell_type": "code",
      "source": [
        "# Groupby Operations\n",
        "df.groupBy(\"Sex\").sum(\"Age\").show(truncate=False)"
      ],
      "metadata": {
        "colab": {
          "base_uri": "https://localhost:8080/"
        },
        "id": "RDN7FcuoLAZp",
        "outputId": "2692b172-4ce3-466d-8f0e-2ba7c033d006"
      },
      "execution_count": 17,
      "outputs": [
        {
          "output_type": "stream",
          "name": "stdout",
          "text": [
            "+------+--------+\n",
            "|Sex   |sum(Age)|\n",
            "+------+--------+\n",
            "|female|7286.0  |\n",
            "|male  |13919.17|\n",
            "+------+--------+\n",
            "\n"
          ]
        }
      ]
    },
    {
      "cell_type": "code",
      "source": [
        "df.groupBy(\"Sex\").max(\"Age\").show()"
      ],
      "metadata": {
        "id": "LoJDcI-hL9bi",
        "colab": {
          "base_uri": "https://localhost:8080/"
        },
        "outputId": "b6277989-a74d-4369-ab9c-05125be30749"
      },
      "execution_count": 20,
      "outputs": [
        {
          "output_type": "stream",
          "name": "stdout",
          "text": [
            "+------+--------+\n",
            "|   Sex|max(Age)|\n",
            "+------+--------+\n",
            "|female|    63.0|\n",
            "|  male|    80.0|\n",
            "+------+--------+\n",
            "\n"
          ]
        }
      ]
    },
    {
      "cell_type": "code",
      "source": [
        "df.groupBy(\"Sex\").mean(\"Age\").show()\n",
        "# df.drop(\"PassengerId\").groupBy(\"Survived\", \"Sex\", \"Pclass\").mean().show(truncate=False)"
      ],
      "metadata": {
        "colab": {
          "base_uri": "https://localhost:8080/"
        },
        "id": "OaftyK2KH0ta",
        "outputId": "de86464b-c9d0-486c-cd2f-4e00705e0329"
      },
      "execution_count": 45,
      "outputs": [
        {
          "output_type": "stream",
          "name": "stdout",
          "text": [
            "+------+------------------+\n",
            "|   Sex|          avg(Age)|\n",
            "+------+------------------+\n",
            "|female|27.915708812260537|\n",
            "|  male| 30.72664459161148|\n",
            "+------+------------------+\n",
            "\n"
          ]
        }
      ]
    },
    {
      "cell_type": "code",
      "source": [
        "  # GroupBy on multiple columns\n",
        "df.groupBy(\"Sex\", \"Pclass\") \\\n",
        "  .sum(\"Age\", \"Fare\") \\\n",
        "  .show(truncate=False)"
      ],
      "metadata": {
        "colab": {
          "base_uri": "https://localhost:8080/"
        },
        "id": "4qO2CxzkH7Io",
        "outputId": "a091b01e-188b-4dc3-9985-37a49e36defe"
      },
      "execution_count": 25,
      "outputs": [
        {
          "output_type": "stream",
          "name": "stdout",
          "text": [
            "+------+------+--------+------------------+\n",
            "|Sex   |Pclass|sum(Age)|sum(Fare)         |\n",
            "+------+------+--------+------------------+\n",
            "|male  |3     |6706.42 |4393.586500000005 |\n",
            "|female|3     |2218.5  |2321.1086000000005|\n",
            "|female|1     |2942.0  |9975.824999999999 |\n",
            "|female|2     |2125.5  |1669.7292         |\n",
            "|male  |2     |3043.33 |2132.1125         |\n",
            "|male  |1     |4169.42 |8201.587500000001 |\n",
            "+------+------+--------+------------------+\n",
            "\n"
          ]
        }
      ]
    },
    {
      "cell_type": "code",
      "source": [
        "# More aggregate functions\n",
        "\n",
        "df.groupBy(\"Sex\", \"Pclass\") \\\n",
        "  .agg(avg(\"Age\").alias(\"avg_age\"), \\\n",
        "       max(\"Age\").alias(\"max_age\"), \\\n",
        "       sum(\"Fare\").alias(\"sum_fare\"), \\\n",
        "       avg(\"Fare\").alias(\"avg_Fare\")\n",
        "  ) \\\n",
        "  .show(truncate=False)"
      ],
      "metadata": {
        "colab": {
          "base_uri": "https://localhost:8080/"
        },
        "id": "rDxXFqOmI-hj",
        "outputId": "1ced9cbf-b351-4c51-d017-6f60f38ccf07"
      },
      "execution_count": 31,
      "outputs": [
        {
          "output_type": "stream",
          "name": "stdout",
          "text": [
            "+------+------+------------------+-------+------------------+------------------+\n",
            "|Sex   |Pclass|avg_age           |max_age|sum_fare          |avg_Fare          |\n",
            "+------+------+------------------+-------+------------------+------------------+\n",
            "|male  |3     |26.507588932806325|74.0   |4393.586500000005 |12.661632564841513|\n",
            "|female|3     |21.75             |63.0   |2321.1086000000005|16.118809722222224|\n",
            "|female|1     |34.61176470588235 |63.0   |9975.824999999999 |106.12579787234041|\n",
            "|female|2     |28.722972972972972|57.0   |1669.7292         |21.97012105263158 |\n",
            "|male  |2     |30.74070707070707 |70.0   |2132.1125         |19.74178240740741 |\n",
            "|male  |1     |41.28138613861386 |80.0   |8201.587500000001 |67.22612704918033 |\n",
            "+------+------+------------------+-------+------------------+------------------+\n",
            "\n"
          ]
        }
      ]
    },
    {
      "cell_type": "code",
      "source": [
        "# Using aggregate with filter\n",
        "\n",
        "df.groupBy(\"Sex\", \"Pclass\") \\\n",
        "  .agg(avg(\"Age\").alias(\"avg_age\"), \\\n",
        "       max(\"Age\").alias(\"max_age\"), \\\n",
        "       sum(\"Fare\").alias(\"sum_fare\"), \\\n",
        "       avg(\"Fare\").alias(\"avg_fare\")) \\\n",
        "  .where(col(\"avg_fare\") >= 16) \\\n",
        "  .show(truncate=False)"
      ],
      "metadata": {
        "colab": {
          "base_uri": "https://localhost:8080/"
        },
        "id": "c4OBEP_9I-1w",
        "outputId": "04159b5d-cbda-44b6-82f9-e9f6d59820d6"
      },
      "execution_count": 37,
      "outputs": [
        {
          "output_type": "stream",
          "name": "stdout",
          "text": [
            "+------+------+------------------+-------+------------------+------------------+\n",
            "|Sex   |Pclass|avg_age           |max_age|sum_fare          |avg_fare          |\n",
            "+------+------+------------------+-------+------------------+------------------+\n",
            "|female|3     |21.75             |63.0   |2321.1086000000005|16.118809722222224|\n",
            "|female|1     |34.61176470588235 |63.0   |9975.824999999999 |106.12579787234041|\n",
            "|female|2     |28.722972972972972|57.0   |1669.7292         |21.97012105263158 |\n",
            "|male  |2     |30.74070707070707 |70.0   |2132.1125         |19.74178240740741 |\n",
            "|male  |1     |41.28138613861386 |80.0   |8201.587500000001 |67.22612704918033 |\n",
            "+------+------+------------------+-------+------------------+------------------+\n",
            "\n"
          ]
        }
      ]
    },
    {
      "cell_type": "code",
      "source": [],
      "metadata": {
        "id": "w1YCKTfZIrxW"
      },
      "execution_count": null,
      "outputs": []
    }
  ]
}