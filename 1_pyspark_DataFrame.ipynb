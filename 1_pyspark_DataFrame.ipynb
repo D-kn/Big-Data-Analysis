{
  "nbformat": 4,
  "nbformat_minor": 0,
  "metadata": {
    "colab": {
      "provenance": [],
      "authorship_tag": "ABX9TyOfhZoyCfjMWK+h9Do920qq",
      "include_colab_link": true
    },
    "kernelspec": {
      "name": "python3",
      "display_name": "Python 3"
    },
    "language_info": {
      "name": "python"
    }
  },
  "cells": [
    {
      "cell_type": "markdown",
      "metadata": {
        "id": "view-in-github",
        "colab_type": "text"
      },
      "source": [
        "<a href=\"https://colab.research.google.com/github/D-kn/Big-Data-Projects/blob/main/1_pyspark_DataFrame.ipynb\" target=\"_parent\"><img src=\"https://colab.research.google.com/assets/colab-badge.svg\" alt=\"Open In Colab\"/></a>"
      ]
    },
    {
      "cell_type": "code",
      "execution_count": 2,
      "metadata": {
        "colab": {
          "base_uri": "https://localhost:8080/"
        },
        "id": "kZClVxOCjEX2",
        "outputId": "de12ef4f-cb7e-4fd5-f15f-248437a9c93a"
      },
      "outputs": [
        {
          "output_type": "stream",
          "name": "stdout",
          "text": [
            "Looking in indexes: https://pypi.org/simple, https://us-python.pkg.dev/colab-wheels/public/simple/\n",
            "Collecting pyspark\n",
            "  Downloading pyspark-3.3.1.tar.gz (281.4 MB)\n",
            "\u001b[K     |████████████████████████████████| 281.4 MB 44 kB/s \n",
            "\u001b[?25hCollecting py4j==0.10.9.5\n",
            "  Downloading py4j-0.10.9.5-py2.py3-none-any.whl (199 kB)\n",
            "\u001b[K     |████████████████████████████████| 199 kB 66.6 MB/s \n",
            "\u001b[?25hBuilding wheels for collected packages: pyspark\n",
            "  Building wheel for pyspark (setup.py) ... \u001b[?25l\u001b[?25hdone\n",
            "  Created wheel for pyspark: filename=pyspark-3.3.1-py2.py3-none-any.whl size=281845512 sha256=cc489a7660058a78b37b0f0413fc9630f560d7263b166b47861e0168fc086f45\n",
            "  Stored in directory: /root/.cache/pip/wheels/43/dc/11/ec201cd671da62fa9c5cc77078235e40722170ceba231d7598\n",
            "Successfully built pyspark\n",
            "Installing collected packages: py4j, pyspark\n",
            "Successfully installed py4j-0.10.9.5 pyspark-3.3.1\n"
          ]
        }
      ],
      "source": [
        "!pip install pyspark"
      ]
    },
    {
      "cell_type": "code",
      "source": [
        "# mount drive\n",
        "from google.colab import drive\n",
        "\n",
        "drive.mount('/content/drive')"
      ],
      "metadata": {
        "colab": {
          "base_uri": "https://localhost:8080/"
        },
        "id": "g-dqbhusjPUX",
        "outputId": "6440663c-3fc2-4e8c-8a48-42261f161950"
      },
      "execution_count": 3,
      "outputs": [
        {
          "output_type": "stream",
          "name": "stdout",
          "text": [
            "Mounted at /content/drive\n"
          ]
        }
      ]
    },
    {
      "cell_type": "code",
      "source": [
        "cd '/content/drive/My Drive/Projets Codes/Datasets'"
      ],
      "metadata": {
        "colab": {
          "base_uri": "https://localhost:8080/"
        },
        "id": "CmJK6lbekNIO",
        "outputId": "b1e6eb82-e0b1-4371-86fa-47dc4aa35015"
      },
      "execution_count": 4,
      "outputs": [
        {
          "output_type": "stream",
          "name": "stdout",
          "text": [
            "/content/drive/My Drive/Projets Codes/Datasets\n"
          ]
        }
      ]
    },
    {
      "cell_type": "code",
      "source": [
        "# Imports\n",
        "from pyspark.sql import SparkSession\n",
        "from pyspark.sql.types import StructType,StructField, StringType, IntegerType\n"
      ],
      "metadata": {
        "id": "NCSmG4ftnP1V"
      },
      "execution_count": 36,
      "outputs": []
    },
    {
      "cell_type": "markdown",
      "source": [
        "# Pyspark DataFrame"
      ],
      "metadata": {
        "id": "YyJCI7htkoOv"
      }
    },
    {
      "cell_type": "code",
      "source": [
        "spark=SparkSession.builder.appName('DataFrame').getOrCreate()"
      ],
      "metadata": {
        "id": "EI8uIo5Fna5M"
      },
      "execution_count": 8,
      "outputs": []
    },
    {
      "cell_type": "code",
      "source": [
        "spark"
      ],
      "metadata": {
        "colab": {
          "base_uri": "https://localhost:8080/",
          "height": 219
        },
        "id": "Lywws-1hntx4",
        "outputId": "a37cc66b-5f60-43e1-8bac-5505df45f337"
      },
      "execution_count": 9,
      "outputs": [
        {
          "output_type": "execute_result",
          "data": {
            "text/plain": [
              "<pyspark.sql.session.SparkSession at 0x7f092dbf3220>"
            ],
            "text/html": [
              "\n",
              "            <div>\n",
              "                <p><b>SparkSession - in-memory</b></p>\n",
              "                \n",
              "        <div>\n",
              "            <p><b>SparkContext</b></p>\n",
              "\n",
              "            <p><a href=\"http://c70dee5dffcd:4040\">Spark UI</a></p>\n",
              "\n",
              "            <dl>\n",
              "              <dt>Version</dt>\n",
              "                <dd><code>v3.3.1</code></dd>\n",
              "              <dt>Master</dt>\n",
              "                <dd><code>local[*]</code></dd>\n",
              "              <dt>AppName</dt>\n",
              "                <dd><code>DataFrame</code></dd>\n",
              "            </dl>\n",
              "        </div>\n",
              "        \n",
              "            </div>\n",
              "        "
            ]
          },
          "metadata": {},
          "execution_count": 9
        }
      ]
    },
    {
      "cell_type": "markdown",
      "source": [
        "# Reading Dataset"
      ],
      "metadata": {
        "id": "kIsBaRWmk5EP"
      }
    },
    {
      "cell_type": "code",
      "source": [
        "df_pyspark = spark.read.option('header', 'true').csv('adult_dataset.csv')\n",
        "df_pyspark"
      ],
      "metadata": {
        "colab": {
          "base_uri": "https://localhost:8080/"
        },
        "id": "j98n5T2vnugf",
        "outputId": "9b31c99d-0d19-47c7-c691-04eb539a4bbd"
      },
      "execution_count": 12,
      "outputs": [
        {
          "output_type": "execute_result",
          "data": {
            "text/plain": [
              "DataFrame[age: string, workclass: string, fnlwgt: string, education: string, educational-num: string, marital-status: string, occupation: string, relationship: string, race: string, gender: string, capital-gain: string, capital-loss: string, hours-per-week: string, native-country: string, income: string]"
            ]
          },
          "metadata": {},
          "execution_count": 12
        }
      ]
    },
    {
      "cell_type": "code",
      "source": [
        "df_pyspark.show()"
      ],
      "metadata": {
        "colab": {
          "base_uri": "https://localhost:8080/"
        },
        "id": "kyP2_zB9okfa",
        "outputId": "eb085985-ffb3-4f28-baa6-30aea0005888"
      },
      "execution_count": 13,
      "outputs": [
        {
          "output_type": "stream",
          "name": "stdout",
          "text": [
            "+---+----------------+------+------------+---------------+------------------+-----------------+-------------+------------------+------+------------+------------+--------------+--------------+------+\n",
            "|age|       workclass|fnlwgt|   education|educational-num|    marital-status|       occupation| relationship|              race|gender|capital-gain|capital-loss|hours-per-week|native-country|income|\n",
            "+---+----------------+------+------------+---------------+------------------+-----------------+-------------+------------------+------+------------+------------+--------------+--------------+------+\n",
            "| 25|         Private|226802|        11th|              7|     Never-married|Machine-op-inspct|    Own-child|             Black|  Male|           0|           0|            40| United-States| <=50K|\n",
            "| 38|         Private| 89814|     HS-grad|              9|Married-civ-spouse|  Farming-fishing|      Husband|             White|  Male|           0|           0|            50| United-States| <=50K|\n",
            "| 28|       Local-gov|336951|  Assoc-acdm|             12|Married-civ-spouse|  Protective-serv|      Husband|             White|  Male|           0|           0|            40| United-States|  >50K|\n",
            "| 44|         Private|160323|Some-college|             10|Married-civ-spouse|Machine-op-inspct|      Husband|             Black|  Male|        7688|           0|            40| United-States|  >50K|\n",
            "| 18|               ?|103497|Some-college|             10|     Never-married|                ?|    Own-child|             White|Female|           0|           0|            30| United-States| <=50K|\n",
            "| 34|         Private|198693|        10th|              6|     Never-married|    Other-service|Not-in-family|             White|  Male|           0|           0|            30| United-States| <=50K|\n",
            "| 29|               ?|227026|     HS-grad|              9|     Never-married|                ?|    Unmarried|             Black|  Male|           0|           0|            40| United-States| <=50K|\n",
            "| 63|Self-emp-not-inc|104626| Prof-school|             15|Married-civ-spouse|   Prof-specialty|      Husband|             White|  Male|        3103|           0|            32| United-States|  >50K|\n",
            "| 24|         Private|369667|Some-college|             10|     Never-married|    Other-service|    Unmarried|             White|Female|           0|           0|            40| United-States| <=50K|\n",
            "| 55|         Private|104996|     7th-8th|              4|Married-civ-spouse|     Craft-repair|      Husband|             White|  Male|           0|           0|            10| United-States| <=50K|\n",
            "| 65|         Private|184454|     HS-grad|              9|Married-civ-spouse|Machine-op-inspct|      Husband|             White|  Male|        6418|           0|            40| United-States|  >50K|\n",
            "| 36|     Federal-gov|212465|   Bachelors|             13|Married-civ-spouse|     Adm-clerical|      Husband|             White|  Male|           0|           0|            40| United-States| <=50K|\n",
            "| 26|         Private| 82091|     HS-grad|              9|     Never-married|     Adm-clerical|Not-in-family|             White|Female|           0|           0|            39| United-States| <=50K|\n",
            "| 58|               ?|299831|     HS-grad|              9|Married-civ-spouse|                ?|      Husband|             White|  Male|           0|           0|            35| United-States| <=50K|\n",
            "| 48|         Private|279724|     HS-grad|              9|Married-civ-spouse|Machine-op-inspct|      Husband|             White|  Male|        3103|           0|            48| United-States|  >50K|\n",
            "| 43|         Private|346189|     Masters|             14|Married-civ-spouse|  Exec-managerial|      Husband|             White|  Male|           0|           0|            50| United-States|  >50K|\n",
            "| 20|       State-gov|444554|Some-college|             10|     Never-married|    Other-service|    Own-child|             White|  Male|           0|           0|            25| United-States| <=50K|\n",
            "| 43|         Private|128354|     HS-grad|              9|Married-civ-spouse|     Adm-clerical|         Wife|             White|Female|           0|           0|            30| United-States| <=50K|\n",
            "| 37|         Private| 60548|     HS-grad|              9|           Widowed|Machine-op-inspct|    Unmarried|             White|Female|           0|           0|            20| United-States| <=50K|\n",
            "| 40|         Private| 85019|   Doctorate|             16|Married-civ-spouse|   Prof-specialty|      Husband|Asian-Pac-Islander|  Male|           0|           0|            45|             ?|  >50K|\n",
            "+---+----------------+------+------------+---------------+------------------+-----------------+-------------+------------------+------+------------+------------+--------------+--------------+------+\n",
            "only showing top 20 rows\n",
            "\n"
          ]
        }
      ]
    },
    {
      "cell_type": "markdown",
      "source": [
        "# Schema (Checking the Datatypes of the column)"
      ],
      "metadata": {
        "id": "CdX87uTyk7AN"
      }
    },
    {
      "cell_type": "code",
      "source": [
        "df_pyspark.printSchema()"
      ],
      "metadata": {
        "colab": {
          "base_uri": "https://localhost:8080/"
        },
        "id": "CNIbhIZSpC0I",
        "outputId": "06561b40-2aea-48cc-fbd7-d532e943a8ec"
      },
      "execution_count": 14,
      "outputs": [
        {
          "output_type": "stream",
          "name": "stdout",
          "text": [
            "root\n",
            " |-- age: string (nullable = true)\n",
            " |-- workclass: string (nullable = true)\n",
            " |-- fnlwgt: string (nullable = true)\n",
            " |-- education: string (nullable = true)\n",
            " |-- educational-num: string (nullable = true)\n",
            " |-- marital-status: string (nullable = true)\n",
            " |-- occupation: string (nullable = true)\n",
            " |-- relationship: string (nullable = true)\n",
            " |-- race: string (nullable = true)\n",
            " |-- gender: string (nullable = true)\n",
            " |-- capital-gain: string (nullable = true)\n",
            " |-- capital-loss: string (nullable = true)\n",
            " |-- hours-per-week: string (nullable = true)\n",
            " |-- native-country: string (nullable = true)\n",
            " |-- income: string (nullable = true)\n",
            "\n"
          ]
        }
      ]
    },
    {
      "cell_type": "code",
      "source": [
        "# schema mode option\n",
        "df_pyspark = spark.read.option('header', 'true').csv('adult_dataset.csv', inferSchema=True)"
      ],
      "metadata": {
        "id": "Jv1I-WGcpBLZ"
      },
      "execution_count": 16,
      "outputs": []
    },
    {
      "cell_type": "code",
      "source": [
        "df_pyspark.printSchema()"
      ],
      "metadata": {
        "colab": {
          "base_uri": "https://localhost:8080/"
        },
        "id": "w-EB4A5Cp18y",
        "outputId": "fa9a3f21-5433-4105-8f73-46489955a94d"
      },
      "execution_count": 17,
      "outputs": [
        {
          "output_type": "stream",
          "name": "stdout",
          "text": [
            "root\n",
            " |-- age: integer (nullable = true)\n",
            " |-- workclass: string (nullable = true)\n",
            " |-- fnlwgt: integer (nullable = true)\n",
            " |-- education: string (nullable = true)\n",
            " |-- educational-num: integer (nullable = true)\n",
            " |-- marital-status: string (nullable = true)\n",
            " |-- occupation: string (nullable = true)\n",
            " |-- relationship: string (nullable = true)\n",
            " |-- race: string (nullable = true)\n",
            " |-- gender: string (nullable = true)\n",
            " |-- capital-gain: integer (nullable = true)\n",
            " |-- capital-loss: integer (nullable = true)\n",
            " |-- hours-per-week: integer (nullable = true)\n",
            " |-- native-country: string (nullable = true)\n",
            " |-- income: string (nullable = true)\n",
            "\n"
          ]
        }
      ]
    },
    {
      "cell_type": "code",
      "source": [
        "df_pyspark=spark.read.csv('adult_dataset.csv', header=True, inferSchema=True)\n",
        "df_pyspark.show()"
      ],
      "metadata": {
        "colab": {
          "base_uri": "https://localhost:8080/"
        },
        "id": "J-e89z5VqPlC",
        "outputId": "f5c8a615-f63d-4634-f63d-bfee964ceae3"
      },
      "execution_count": 19,
      "outputs": [
        {
          "output_type": "stream",
          "name": "stdout",
          "text": [
            "+---+----------------+------+------------+---------------+------------------+-----------------+-------------+------------------+------+------------+------------+--------------+--------------+------+\n",
            "|age|       workclass|fnlwgt|   education|educational-num|    marital-status|       occupation| relationship|              race|gender|capital-gain|capital-loss|hours-per-week|native-country|income|\n",
            "+---+----------------+------+------------+---------------+------------------+-----------------+-------------+------------------+------+------------+------------+--------------+--------------+------+\n",
            "| 25|         Private|226802|        11th|              7|     Never-married|Machine-op-inspct|    Own-child|             Black|  Male|           0|           0|            40| United-States| <=50K|\n",
            "| 38|         Private| 89814|     HS-grad|              9|Married-civ-spouse|  Farming-fishing|      Husband|             White|  Male|           0|           0|            50| United-States| <=50K|\n",
            "| 28|       Local-gov|336951|  Assoc-acdm|             12|Married-civ-spouse|  Protective-serv|      Husband|             White|  Male|           0|           0|            40| United-States|  >50K|\n",
            "| 44|         Private|160323|Some-college|             10|Married-civ-spouse|Machine-op-inspct|      Husband|             Black|  Male|        7688|           0|            40| United-States|  >50K|\n",
            "| 18|               ?|103497|Some-college|             10|     Never-married|                ?|    Own-child|             White|Female|           0|           0|            30| United-States| <=50K|\n",
            "| 34|         Private|198693|        10th|              6|     Never-married|    Other-service|Not-in-family|             White|  Male|           0|           0|            30| United-States| <=50K|\n",
            "| 29|               ?|227026|     HS-grad|              9|     Never-married|                ?|    Unmarried|             Black|  Male|           0|           0|            40| United-States| <=50K|\n",
            "| 63|Self-emp-not-inc|104626| Prof-school|             15|Married-civ-spouse|   Prof-specialty|      Husband|             White|  Male|        3103|           0|            32| United-States|  >50K|\n",
            "| 24|         Private|369667|Some-college|             10|     Never-married|    Other-service|    Unmarried|             White|Female|           0|           0|            40| United-States| <=50K|\n",
            "| 55|         Private|104996|     7th-8th|              4|Married-civ-spouse|     Craft-repair|      Husband|             White|  Male|           0|           0|            10| United-States| <=50K|\n",
            "| 65|         Private|184454|     HS-grad|              9|Married-civ-spouse|Machine-op-inspct|      Husband|             White|  Male|        6418|           0|            40| United-States|  >50K|\n",
            "| 36|     Federal-gov|212465|   Bachelors|             13|Married-civ-spouse|     Adm-clerical|      Husband|             White|  Male|           0|           0|            40| United-States| <=50K|\n",
            "| 26|         Private| 82091|     HS-grad|              9|     Never-married|     Adm-clerical|Not-in-family|             White|Female|           0|           0|            39| United-States| <=50K|\n",
            "| 58|               ?|299831|     HS-grad|              9|Married-civ-spouse|                ?|      Husband|             White|  Male|           0|           0|            35| United-States| <=50K|\n",
            "| 48|         Private|279724|     HS-grad|              9|Married-civ-spouse|Machine-op-inspct|      Husband|             White|  Male|        3103|           0|            48| United-States|  >50K|\n",
            "| 43|         Private|346189|     Masters|             14|Married-civ-spouse|  Exec-managerial|      Husband|             White|  Male|           0|           0|            50| United-States|  >50K|\n",
            "| 20|       State-gov|444554|Some-college|             10|     Never-married|    Other-service|    Own-child|             White|  Male|           0|           0|            25| United-States| <=50K|\n",
            "| 43|         Private|128354|     HS-grad|              9|Married-civ-spouse|     Adm-clerical|         Wife|             White|Female|           0|           0|            30| United-States| <=50K|\n",
            "| 37|         Private| 60548|     HS-grad|              9|           Widowed|Machine-op-inspct|    Unmarried|             White|Female|           0|           0|            20| United-States| <=50K|\n",
            "| 40|         Private| 85019|   Doctorate|             16|Married-civ-spouse|   Prof-specialty|      Husband|Asian-Pac-Islander|  Male|           0|           0|            45|             ?|  >50K|\n",
            "+---+----------------+------+------------+---------------+------------------+-----------------+-------------+------------------+------+------------+------------+--------------+--------------+------+\n",
            "only showing top 20 rows\n",
            "\n"
          ]
        }
      ]
    },
    {
      "cell_type": "code",
      "source": [
        "df_pyspark.printSchema()"
      ],
      "metadata": {
        "colab": {
          "base_uri": "https://localhost:8080/"
        },
        "id": "2w6K8lv5qnC2",
        "outputId": "9205a81a-b5fe-4b9b-d2e1-949c3901cdd8"
      },
      "execution_count": 20,
      "outputs": [
        {
          "output_type": "stream",
          "name": "stdout",
          "text": [
            "root\n",
            " |-- age: integer (nullable = true)\n",
            " |-- workclass: string (nullable = true)\n",
            " |-- fnlwgt: integer (nullable = true)\n",
            " |-- education: string (nullable = true)\n",
            " |-- educational-num: integer (nullable = true)\n",
            " |-- marital-status: string (nullable = true)\n",
            " |-- occupation: string (nullable = true)\n",
            " |-- relationship: string (nullable = true)\n",
            " |-- race: string (nullable = true)\n",
            " |-- gender: string (nullable = true)\n",
            " |-- capital-gain: integer (nullable = true)\n",
            " |-- capital-loss: integer (nullable = true)\n",
            " |-- hours-per-week: integer (nullable = true)\n",
            " |-- native-country: string (nullable = true)\n",
            " |-- income: string (nullable = true)\n",
            "\n"
          ]
        }
      ]
    },
    {
      "cell_type": "code",
      "source": [
        "type(df_pyspark)"
      ],
      "metadata": {
        "colab": {
          "base_uri": "https://localhost:8080/"
        },
        "id": "IHezEg8VqpIo",
        "outputId": "641d0ea6-eb8a-4043-90e0-6d5423748372"
      },
      "execution_count": 21,
      "outputs": [
        {
          "output_type": "execute_result",
          "data": {
            "text/plain": [
              "pyspark.sql.dataframe.DataFrame"
            ]
          },
          "metadata": {},
          "execution_count": 21
        }
      ]
    },
    {
      "cell_type": "markdown",
      "source": [
        "# Selecting Columns and Indexing"
      ],
      "metadata": {
        "id": "a_a_depKld7F"
      }
    },
    {
      "cell_type": "code",
      "source": [
        "df_pyspark.columns"
      ],
      "metadata": {
        "colab": {
          "base_uri": "https://localhost:8080/"
        },
        "id": "Haqyeo2Qq--y",
        "outputId": "e12a637a-994e-4403-bb1a-a5397f9780f7"
      },
      "execution_count": 22,
      "outputs": [
        {
          "output_type": "execute_result",
          "data": {
            "text/plain": [
              "['age',\n",
              " 'workclass',\n",
              " 'fnlwgt',\n",
              " 'education',\n",
              " 'educational-num',\n",
              " 'marital-status',\n",
              " 'occupation',\n",
              " 'relationship',\n",
              " 'race',\n",
              " 'gender',\n",
              " 'capital-gain',\n",
              " 'capital-loss',\n",
              " 'hours-per-week',\n",
              " 'native-country',\n",
              " 'income']"
            ]
          },
          "metadata": {},
          "execution_count": 22
        }
      ]
    },
    {
      "cell_type": "code",
      "source": [
        "df_pyspark.head(2)"
      ],
      "metadata": {
        "colab": {
          "base_uri": "https://localhost:8080/"
        },
        "id": "hv6GP8rCrQFo",
        "outputId": "38af9630-0ce6-4d74-906b-ec8d187903db"
      },
      "execution_count": 24,
      "outputs": [
        {
          "output_type": "execute_result",
          "data": {
            "text/plain": [
              "[Row(age=25, workclass='Private', fnlwgt=226802, education='11th', educational-num=7, marital-status='Never-married', occupation='Machine-op-inspct', relationship='Own-child', race='Black', gender='Male', capital-gain=0, capital-loss=0, hours-per-week=40, native-country='United-States', income='<=50K'),\n",
              " Row(age=38, workclass='Private', fnlwgt=89814, education='HS-grad', educational-num=9, marital-status='Married-civ-spouse', occupation='Farming-fishing', relationship='Husband', race='White', gender='Male', capital-gain=0, capital-loss=0, hours-per-week=50, native-country='United-States', income='<=50K')]"
            ]
          },
          "metadata": {},
          "execution_count": 24
        }
      ]
    },
    {
      "cell_type": "code",
      "source": [
        "# pick up a column\n",
        "df_pyspark.select('occupation').show()"
      ],
      "metadata": {
        "colab": {
          "base_uri": "https://localhost:8080/"
        },
        "id": "K2jUN2q3rXV2",
        "outputId": "3442e216-d5b4-493a-a9fb-49a8a481aee7"
      },
      "execution_count": 29,
      "outputs": [
        {
          "output_type": "stream",
          "name": "stdout",
          "text": [
            "+-----------------+\n",
            "|       occupation|\n",
            "+-----------------+\n",
            "|Machine-op-inspct|\n",
            "|  Farming-fishing|\n",
            "|  Protective-serv|\n",
            "|Machine-op-inspct|\n",
            "|                ?|\n",
            "|    Other-service|\n",
            "|                ?|\n",
            "|   Prof-specialty|\n",
            "|    Other-service|\n",
            "|     Craft-repair|\n",
            "|Machine-op-inspct|\n",
            "|     Adm-clerical|\n",
            "|     Adm-clerical|\n",
            "|                ?|\n",
            "|Machine-op-inspct|\n",
            "|  Exec-managerial|\n",
            "|    Other-service|\n",
            "|     Adm-clerical|\n",
            "|Machine-op-inspct|\n",
            "|   Prof-specialty|\n",
            "+-----------------+\n",
            "only showing top 20 rows\n",
            "\n"
          ]
        }
      ]
    },
    {
      "cell_type": "code",
      "source": [
        "# show multiple column\n",
        "df_pyspark.select(['occupation', 'native-country', 'education']).show()"
      ],
      "metadata": {
        "colab": {
          "base_uri": "https://localhost:8080/"
        },
        "id": "u0xquriPr8Xh",
        "outputId": "c8fa6ebc-01bd-4f55-ee16-ad1b8fb9dfba"
      },
      "execution_count": 32,
      "outputs": [
        {
          "output_type": "stream",
          "name": "stdout",
          "text": [
            "+-----------------+--------------+------------+\n",
            "|       occupation|native-country|   education|\n",
            "+-----------------+--------------+------------+\n",
            "|Machine-op-inspct| United-States|        11th|\n",
            "|  Farming-fishing| United-States|     HS-grad|\n",
            "|  Protective-serv| United-States|  Assoc-acdm|\n",
            "|Machine-op-inspct| United-States|Some-college|\n",
            "|                ?| United-States|Some-college|\n",
            "|    Other-service| United-States|        10th|\n",
            "|                ?| United-States|     HS-grad|\n",
            "|   Prof-specialty| United-States| Prof-school|\n",
            "|    Other-service| United-States|Some-college|\n",
            "|     Craft-repair| United-States|     7th-8th|\n",
            "|Machine-op-inspct| United-States|     HS-grad|\n",
            "|     Adm-clerical| United-States|   Bachelors|\n",
            "|     Adm-clerical| United-States|     HS-grad|\n",
            "|                ?| United-States|     HS-grad|\n",
            "|Machine-op-inspct| United-States|     HS-grad|\n",
            "|  Exec-managerial| United-States|     Masters|\n",
            "|    Other-service| United-States|Some-college|\n",
            "|     Adm-clerical| United-States|     HS-grad|\n",
            "|Machine-op-inspct| United-States|     HS-grad|\n",
            "|   Prof-specialty|             ?|   Doctorate|\n",
            "+-----------------+--------------+------------+\n",
            "only showing top 20 rows\n",
            "\n"
          ]
        }
      ]
    },
    {
      "cell_type": "code",
      "source": [
        "# check data type\n",
        "df_pyspark.dtypes"
      ],
      "metadata": {
        "colab": {
          "base_uri": "https://localhost:8080/"
        },
        "id": "Xdrs_XInsjgG",
        "outputId": "844eb058-e984-4ae5-b390-10c907e89159"
      },
      "execution_count": 33,
      "outputs": [
        {
          "output_type": "execute_result",
          "data": {
            "text/plain": [
              "[('age', 'int'),\n",
              " ('workclass', 'string'),\n",
              " ('fnlwgt', 'int'),\n",
              " ('education', 'string'),\n",
              " ('educational-num', 'int'),\n",
              " ('marital-status', 'string'),\n",
              " ('occupation', 'string'),\n",
              " ('relationship', 'string'),\n",
              " ('race', 'string'),\n",
              " ('gender', 'string'),\n",
              " ('capital-gain', 'int'),\n",
              " ('capital-loss', 'int'),\n",
              " ('hours-per-week', 'int'),\n",
              " ('native-country', 'string'),\n",
              " ('income', 'string')]"
            ]
          },
          "metadata": {},
          "execution_count": 33
        }
      ]
    },
    {
      "cell_type": "markdown",
      "source": [
        "# Describe Method (like in pandas)"
      ],
      "metadata": {
        "id": "S1kWaMu0llGE"
      }
    },
    {
      "cell_type": "code",
      "source": [
        "# df_pyspark.describe()\n",
        "df_pyspark.describe().show()"
      ],
      "metadata": {
        "colab": {
          "base_uri": "https://localhost:8080/"
        },
        "id": "RS3BO_9dsz1s",
        "outputId": "82404831-8cfd-49ca-ce2a-41295bbd8173"
      },
      "execution_count": 35,
      "outputs": [
        {
          "output_type": "stream",
          "name": "stdout",
          "text": [
            "+-------+------------------+-----------+------------------+------------+------------------+--------------+----------------+------------+------------------+------+------------------+-----------------+------------------+--------------+------+\n",
            "|summary|               age|  workclass|            fnlwgt|   education|   educational-num|marital-status|      occupation|relationship|              race|gender|      capital-gain|     capital-loss|    hours-per-week|native-country|income|\n",
            "+-------+------------------+-----------+------------------+------------+------------------+--------------+----------------+------------+------------------+------+------------------+-----------------+------------------+--------------+------+\n",
            "|  count|             48842|      48842|             48842|       48842|             48842|         48842|           48842|       48842|             48842| 48842|             48842|            48842|             48842|         48842| 48842|\n",
            "|   mean| 38.64358543876172|       null|189664.13459727284|        null|10.078088530363212|          null|            null|        null|              null|  null|1079.0676262233324|87.50231358257237|40.422382375824085|          null|  null|\n",
            "| stddev|13.710509934443502|       null|105604.02542315764|        null| 2.570972755592251|          null|            null|        null|              null|  null| 7452.019057655418|403.0045521243594|12.391444024252284|          null|  null|\n",
            "|    min|                17|          ?|             12285|        10th|                 1|      Divorced|               ?|     Husband|Amer-Indian-Eskimo|Female|                 0|                0|                 1|             ?| <=50K|\n",
            "|    max|                90|Without-pay|           1490400|Some-college|                16|       Widowed|Transport-moving|        Wife|             White|  Male|             99999|             4356|                99|    Yugoslavia|  >50K|\n",
            "+-------+------------------+-----------+------------------+------------+------------------+--------------+----------------+------------+------------------+------+------------------+-----------------+------------------+--------------+------+\n",
            "\n"
          ]
        }
      ]
    },
    {
      "cell_type": "markdown",
      "source": [
        "# Creating dataframe"
      ],
      "metadata": {
        "id": "gVC-vFRWmlrU"
      }
    },
    {
      "cell_type": "code",
      "source": [
        "data = [(\"Davy\",\"\",\"Noel\",\"36636\",\"M\",380000),\n",
        "    (\"Eliezer\",\"Yannis\",\"\",\"40288\",\"M\",800000),\n",
        "    (\"Rolvy\",\"\",\"Dicken\",\"42114\",\"M\",450000),\n",
        "    (\"Elvire\",\"Degrace\",\"Carine\",\"39192\",\"F\",400000),\n",
        "    (\"Mercia\",\"Kadi\",\"Rolande\",\"\",\"F\",100000)\n",
        "  ]\n",
        "\n",
        "schema = StructType([ \\\n",
        "    StructField(\"firstname\",StringType(),True), \\\n",
        "    StructField(\"middlename\",StringType(),True), \\\n",
        "    StructField(\"lastname\",StringType(),True), \\\n",
        "    StructField(\"id\", StringType(), True), \\\n",
        "    StructField(\"gender\", StringType(), True), \\\n",
        "    StructField(\"salary (CFA)\", IntegerType(), True) \\\n",
        "  ])\n",
        " \n",
        "df_pyspark_ = spark.createDataFrame(data=data,schema=schema)\n",
        "df_pyspark_.printSchema()\n",
        "df_pyspark_.show(truncate=False)"
      ],
      "metadata": {
        "colab": {
          "base_uri": "https://localhost:8080/"
        },
        "id": "AsflhOcbtisC",
        "outputId": "c48402b6-56fc-41f2-d7f2-2466a66a476e"
      },
      "execution_count": 40,
      "outputs": [
        {
          "output_type": "stream",
          "name": "stdout",
          "text": [
            "root\n",
            " |-- firstname: string (nullable = true)\n",
            " |-- middlename: string (nullable = true)\n",
            " |-- lastname: string (nullable = true)\n",
            " |-- id: string (nullable = true)\n",
            " |-- gender: string (nullable = true)\n",
            " |-- salary (CFA): integer (nullable = true)\n",
            "\n",
            "+---------+----------+--------+-----+------+------------+\n",
            "|firstname|middlename|lastname|id   |gender|salary (CFA)|\n",
            "+---------+----------+--------+-----+------+------------+\n",
            "|Davy     |          |Noel    |36636|M     |380000      |\n",
            "|Eliezer  |Yannis    |        |40288|M     |800000      |\n",
            "|Rolvy    |          |Dicken  |42114|M     |450000      |\n",
            "|Elvire   |Degrace   |Carine  |39192|F     |400000      |\n",
            "|Mercia   |Kadi      |Rolande |     |F     |100000      |\n",
            "+---------+----------+--------+-----+------+------------+\n",
            "\n"
          ]
        }
      ]
    },
    {
      "cell_type": "markdown",
      "source": [
        "# Adding columns"
      ],
      "metadata": {
        "id": "anPlVMTSlqJm"
      }
    },
    {
      "cell_type": "code",
      "source": [
        "df_pyspark_.withColumn('Salary perc. by million', df_pyspark_['salary (CFA)']/1e6).show()"
      ],
      "metadata": {
        "colab": {
          "base_uri": "https://localhost:8080/"
        },
        "id": "aqTGwns-uwSI",
        "outputId": "41414a29-efec-4ddf-de93-354dceb97864"
      },
      "execution_count": 42,
      "outputs": [
        {
          "output_type": "stream",
          "name": "stdout",
          "text": [
            "+---------+----------+--------+-----+------+------------+-----------------------+\n",
            "|firstname|middlename|lastname|   id|gender|salary (CFA)|Salary perc. by million|\n",
            "+---------+----------+--------+-----+------+------------+-----------------------+\n",
            "|     Davy|          |    Noel|36636|     M|      380000|                   0.38|\n",
            "|  Eliezer|    Yannis|        |40288|     M|      800000|                    0.8|\n",
            "|    Rolvy|          |  Dicken|42114|     M|      450000|                   0.45|\n",
            "|   Elvire|   Degrace|  Carine|39192|     F|      400000|                    0.4|\n",
            "|   Mercia|      Kadi| Rolande|     |     F|      100000|                    0.1|\n",
            "+---------+----------+--------+-----+------+------------+-----------------------+\n",
            "\n"
          ]
        }
      ]
    },
    {
      "cell_type": "markdown",
      "source": [
        "# Dropping columns"
      ],
      "metadata": {
        "id": "cS4nr49alqTF"
      }
    },
    {
      "cell_type": "code",
      "source": [
        "df_pyspark_.drop('Salary perc. by million')"
      ],
      "metadata": {
        "colab": {
          "base_uri": "https://localhost:8080/"
        },
        "id": "dh9bzjwol1VR",
        "outputId": "881f0576-b35e-4092-e493-603325273738"
      },
      "execution_count": 43,
      "outputs": [
        {
          "output_type": "execute_result",
          "data": {
            "text/plain": [
              "DataFrame[firstname: string, middlename: string, lastname: string, id: string, gender: string, salary (CFA): int]"
            ]
          },
          "metadata": {},
          "execution_count": 43
        }
      ]
    },
    {
      "cell_type": "code",
      "source": [
        "df_pyspark_.show()"
      ],
      "metadata": {
        "colab": {
          "base_uri": "https://localhost:8080/"
        },
        "id": "5Ebs2DbQvlp1",
        "outputId": "42754b97-adc9-4ef8-9c9e-692b74e8340f"
      },
      "execution_count": 44,
      "outputs": [
        {
          "output_type": "stream",
          "name": "stdout",
          "text": [
            "+---------+----------+--------+-----+------+------------+\n",
            "|firstname|middlename|lastname|   id|gender|salary (CFA)|\n",
            "+---------+----------+--------+-----+------+------------+\n",
            "|     Davy|          |    Noel|36636|     M|      380000|\n",
            "|  Eliezer|    Yannis|        |40288|     M|      800000|\n",
            "|    Rolvy|          |  Dicken|42114|     M|      450000|\n",
            "|   Elvire|   Degrace|  Carine|39192|     F|      400000|\n",
            "|   Mercia|      Kadi| Rolande|     |     F|      100000|\n",
            "+---------+----------+--------+-----+------+------------+\n",
            "\n"
          ]
        }
      ]
    },
    {
      "cell_type": "markdown",
      "source": [
        "# Renaming columns\n"
      ],
      "metadata": {
        "id": "xYlNR730wUMr"
      }
    },
    {
      "cell_type": "code",
      "source": [
        "df_pyspark_.withColumnRenamed('gender', 'sex').show()"
      ],
      "metadata": {
        "colab": {
          "base_uri": "https://localhost:8080/"
        },
        "id": "-kI33rq5vpqo",
        "outputId": "be8fb26b-9b11-44f8-e2e3-82be89f5bade"
      },
      "execution_count": 46,
      "outputs": [
        {
          "output_type": "stream",
          "name": "stdout",
          "text": [
            "+---------+----------+--------+-----+---+------------+\n",
            "|firstname|middlename|lastname|   id|sex|salary (CFA)|\n",
            "+---------+----------+--------+-----+---+------------+\n",
            "|     Davy|          |    Noel|36636|  M|      380000|\n",
            "|  Eliezer|    Yannis|        |40288|  M|      800000|\n",
            "|    Rolvy|          |  Dicken|42114|  M|      450000|\n",
            "|   Elvire|   Degrace|  Carine|39192|  F|      400000|\n",
            "|   Mercia|      Kadi| Rolande|     |  F|      100000|\n",
            "+---------+----------+--------+-----+---+------------+\n",
            "\n"
          ]
        }
      ]
    },
    {
      "cell_type": "code",
      "source": [],
      "metadata": {
        "id": "7QaFj-rCwdpB"
      },
      "execution_count": null,
      "outputs": []
    }
  ]
}